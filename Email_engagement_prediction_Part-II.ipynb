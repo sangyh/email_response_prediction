{
 "cells": [
  {
   "cell_type": "markdown",
   "metadata": {},
   "source": [
    "# Sales Outreach Email Engagement Analysis \n",
    "Author: Sangy Hanumasagar, 30 April 2018 <br>\n",
    "Python 3.6.2\n",
    "\n",
    "## Table of Contents\n",
    "\n",
    "#### Part I\n",
    "1. Introduction \n",
    "2. Exploratory Data Analysis, Preprocessing and Feature Selecion\n",
    "\n",
    "#### Part II\n",
    "3. Class Imbalance\n",
    "4. Imputing Missing Values\n",
    "5. ML Model Comparison and Selection\n",
    "\n",
    "#### Part III\n",
    "5. Undersampling\n",
    "6. Model Model Performance & Hyperparameter Tuning\n",
    "7. Interpretation of Results and Feature Importance\n",
    "8. Closing Thoughts"
   ]
  },
  {
   "cell_type": "code",
   "execution_count": 402,
   "metadata": {
    "collapsed": true
   },
   "outputs": [],
   "source": [
    "#import libraries\n",
    "import pandas as pd\n",
    "import numpy as np\n",
    "import seaborn as sns\n",
    "import matplotlib.pyplot as plt\n",
    "from scipy import stats\n",
    "%matplotlib inline\n",
    "\n",
    "plt.style.use('bmh')\n",
    "\n",
    "from sklearn.preprocessing import LabelEncoder\n",
    "\n",
    "from sklearn.utils import resample\n",
    "\n",
    "from sklearn.linear_model import LogisticRegression\n",
    "from sklearn.kernel_approximation import RBFSampler\n",
    "from sklearn.svm import SVC\n",
    "from sklearn.tree import DecisionTreeClassifier\n",
    "from sklearn.ensemble import RandomForestClassifier\n",
    "from sklearn.ensemble import AdaBoostClassifier\n",
    "from sklearn.neural_network import MLPClassifier\n",
    "from sklearn.model_selection import train_test_split\n",
    "import xgboost as xgb\n",
    "\n",
    "from sklearn.model_selection import GridSearchCV\n",
    "from sklearn.model_selection import RandomizedSearchCV\n",
    "from sklearn.metrics import classification_report\n",
    "from sklearn.metrics import confusion_matrix\n",
    "from sklearn.metrics import roc_curve\n",
    "from sklearn.metrics import auc\n",
    "from sklearn.metrics import precision_recall_curve\n",
    "from sklearn.metrics import f1_score\n",
    "from sklearn.metrics import average_precision_score"
   ]
  },
  {
   "cell_type": "markdown",
   "metadata": {
    "collapsed": true
   },
   "source": [
    "Lets read the dataframe from the first notebook."
   ]
  },
  {
   "cell_type": "code",
   "execution_count": 101,
   "metadata": {
    "collapsed": true
   },
   "outputs": [],
   "source": [
    "%store -r full_df"
   ]
  },
  {
   "cell_type": "code",
   "execution_count": 102,
   "metadata": {},
   "outputs": [
    {
     "name": "stdout",
     "output_type": "stream",
     "text": [
      "No of positve and negative examples:\n"
     ]
    },
    {
     "data": {
      "text/plain": [
       "0    745829\n",
       "1    277427\n",
       "Name: email_opened, dtype: int64"
      ]
     },
     "execution_count": 102,
     "metadata": {},
     "output_type": "execute_result"
    }
   ],
   "source": [
    "print('No of positve and negative examples:')\n",
    "full_df['email_opened'].value_counts()"
   ]
  },
  {
   "cell_type": "markdown",
   "metadata": {},
   "source": [
    "### Class Imbalance\n",
    "Our dataset target classes are imbalanced by 73:23 proportion. So training a model on this data directly would result in bias and the positive class being underpredicted. For such cases accuracy can be high but the model isn't doing its job. \n"
   ]
  },
  {
   "cell_type": "code",
   "execution_count": 103,
   "metadata": {
    "scrolled": true
   },
   "outputs": [
    {
     "data": {
      "image/png": "[encoded data removed]",
      "text/plain": [
       "<matplotlib.figure.Figure at 0x2b4803d8b00>"
      ]
     },
     "metadata": {},
     "output_type": "display_data"
    }
   ],
   "source": [
    "class_counts=full_df['email_opened'].value_counts()\n",
    "plt.figure(figsize=(5,5))\n",
    "plt.pie(class_counts, labels=['Negative Class (Ignored emails)','Positive Class (Opened emails)'], autopct='%1.0f%%', pctdistance=1.1, labeldistance=1.3)\n",
    "plt.show()\n"
   ]
  },
  {
   "cell_type": "markdown",
   "metadata": {},
   "source": [
    "#### Options\n",
    "\n",
    "We can resample the data before training to balance the classes, by either random undersampling, oversampling, or generating synthetic data (Synthetic Minority Over-sampling Technique). \n",
    "\n",
    "There are also tree-based algorithms that will allow us to increase minoroty samples weight during training.\n",
    "\n",
    "The key will be running many models multiple times and using cross validation to get confidence in the results and ensure model generalizes. I will also use multiple metrics like confusion matrix, precisiona, recall, f1-score and ROC curves."
   ]
  },
  {
   "cell_type": "code",
   "execution_count": 104,
   "metadata": {
    "scrolled": true
   },
   "outputs": [
    {
     "name": "stdout",
     "output_type": "stream",
     "text": [
      "<class 'pandas.core.frame.DataFrame'>\n",
      "Int64Index: 1023256 entries, 0 to 1023255\n",
      "Data columns (total 25 columns):\n",
      "is_thread_reply            1023256 non-null int64\n",
      "subject_customized         1023256 non-null int64\n",
      "body_customized            1023256 non-null int64\n",
      "subject_length             454321 non-null float64\n",
      "body_length                1012846 non-null float64\n",
      "delivered_at               1023256 non-null datetime64[ns]\n",
      "replied_at                 31137 non-null datetime64[ns]\n",
      "opened_at                  277427 non-null datetime64[ns]\n",
      "clicked_at                 3134 non-null datetime64[ns]\n",
      "sequence_id                1023256 non-null int64\n",
      "persona                    1023256 non-null object\n",
      "company_name               1022356 non-null object\n",
      "industry                   987681 non-null object\n",
      "company_tier               939426 non-null object\n",
      "email_opened               1023256 non-null int32\n",
      "email_replied              1023256 non-null int32\n",
      "delivered_at_day           1023256 non-null int64\n",
      "delivered_at_hour          1023256 non-null int64\n",
      "opened_at_day              277427 non-null float64\n",
      "opened_at_hour             277427 non-null float64\n",
      "replied_at_day             31137 non-null float64\n",
      "replied_at_hour            31137 non-null float64\n",
      "industy_category           1023256 non-null object\n",
      "prospect_number_replies    1023256 non-null int32\n",
      "sequence_length            1023256 non-null int64\n",
      "dtypes: datetime64[ns](4), float64(6), int32(3), int64(7), object(5)\n",
      "memory usage: 191.3+ MB\n"
     ]
    }
   ],
   "source": [
    "full_df.info()"
   ]
  },
  {
   "cell_type": "markdown",
   "metadata": {},
   "source": [
    "Notes:\n",
    "* The 'datetime' fields can be dropped. The delivered_at field has already been used to extract days and hours of delivery.\n",
    "* 'email_replied' doesnt apply to binary classification as we are dealing with email_opened as target field here."
   ]
  },
  {
   "cell_type": "code",
   "execution_count": 105,
   "metadata": {
    "collapsed": true,
    "scrolled": true
   },
   "outputs": [],
   "source": [
    "model_df=full_df.drop(['delivered_at','replied_at','opened_at','opened_at_day', 'opened_at_hour', 'replied_at_day',\n",
    "                       'replied_at_hour','clicked_at','email_replied','industry'],axis=1)\n",
    "model_df.drop([],axis=1,inplace=True)"
   ]
  },
  {
   "cell_type": "code",
   "execution_count": 106,
   "metadata": {},
   "outputs": [
    {
     "name": "stdout",
     "output_type": "stream",
     "text": [
      "<class 'pandas.core.frame.DataFrame'>\n",
      "Int64Index: 1023256 entries, 0 to 1023255\n",
      "Data columns (total 15 columns):\n",
      "is_thread_reply            1023256 non-null int64\n",
      "subject_customized         1023256 non-null int64\n",
      "body_customized            1023256 non-null int64\n",
      "subject_length             454321 non-null float64\n",
      "body_length                1012846 non-null float64\n",
      "sequence_id                1023256 non-null int64\n",
      "persona                    1023256 non-null object\n",
      "company_name               1022356 non-null object\n",
      "company_tier               939426 non-null object\n",
      "email_opened               1023256 non-null int32\n",
      "delivered_at_day           1023256 non-null int64\n",
      "delivered_at_hour          1023256 non-null int64\n",
      "industy_category           1023256 non-null object\n",
      "prospect_number_replies    1023256 non-null int32\n",
      "sequence_length            1023256 non-null int64\n",
      "dtypes: float64(2), int32(2), int64(7), object(4)\n",
      "memory usage: 117.1+ MB\n"
     ]
    }
   ],
   "source": [
    "model_df.info()"
   ]
  },
  {
   "cell_type": "markdown",
   "metadata": {},
   "source": [
    "We have :\n",
    "* 4 object features: persona, company_name, industry, company_tier\n",
    "* 4 continuous numeric features: subject_length, body_length, prospect_number_replies, sequence_length                 \n",
    "* 5 ordinal categorical features: is_thread_reply, subject_customized, body_customized, delivered_at_day, delivered_at_hour\n",
    "* 1 target binary categorical feature: email_opened\n",
    "\n",
    "##### All these features make sense intuitively that they could be driving the email engagements"
   ]
  },
  {
   "cell_type": "markdown",
   "metadata": {},
   "source": [
    "### Imputing Missing Values"
   ]
  },
  {
   "cell_type": "code",
   "execution_count": 107,
   "metadata": {},
   "outputs": [
    {
     "data": {
      "text/plain": [
       "is_thread_reply                 0\n",
       "subject_customized              0\n",
       "body_customized                 0\n",
       "subject_length             568935\n",
       "body_length                 10410\n",
       "sequence_id                     0\n",
       "persona                         0\n",
       "company_name                  900\n",
       "company_tier                83830\n",
       "email_opened                    0\n",
       "delivered_at_day                0\n",
       "delivered_at_hour               0\n",
       "industy_category                0\n",
       "prospect_number_replies         0\n",
       "sequence_length                 0\n",
       "dtype: int64"
      ]
     },
     "execution_count": 107,
     "metadata": {},
     "output_type": "execute_result"
    }
   ],
   "source": [
    "model_df.isnull().sum()"
   ]
  },
  {
   "cell_type": "markdown",
   "metadata": {},
   "source": [
    "#### Company name and company_tier:\n",
    "I will fill missing values as Unknown for company name, and most common values for industry and company tier (mode of the field)."
   ]
  },
  {
   "cell_type": "code",
   "execution_count": 108,
   "metadata": {
    "collapsed": true
   },
   "outputs": [],
   "source": [
    "model_df['company_name'].fillna('Unknown',inplace=True)\n",
    "\n",
    "tier_mode=full_df['company_tier'].mode()\n",
    "model_df['company_tier'].fillna(tier_mode[0],inplace=True)"
   ]
  },
  {
   "cell_type": "markdown",
   "metadata": {},
   "source": [
    "#### Subject Length and Body Length:\n",
    "I will use the mode to fill the missing values"
   ]
  },
  {
   "cell_type": "code",
   "execution_count": 109,
   "metadata": {},
   "outputs": [
    {
     "name": "stdout",
     "output_type": "stream",
     "text": [
      "0    13.0\n",
      "dtype: float64\n",
      "0    327.0\n",
      "dtype: float64\n"
     ]
    }
   ],
   "source": [
    "sub_length_mode=full_df['subject_length'].mode()\n",
    "print(sub_length_mode)\n",
    "model_df['subject_length'].fillna(sub_length_mode[0],inplace=True)\n",
    "\n",
    "body_length_mode=full_df['body_length'].mode()\n",
    "print(body_length_mode)\n",
    "model_df['body_length'].fillna(body_length_mode[0],inplace=True)"
   ]
  },
  {
   "cell_type": "markdown",
   "metadata": {},
   "source": [
    "_ the mode of the subject length is 13. 13 characters in a subject seems very short? _"
   ]
  },
  {
   "cell_type": "code",
   "execution_count": 110,
   "metadata": {},
   "outputs": [
    {
     "data": {
      "text/plain": [
       "is_thread_reply            0\n",
       "subject_customized         0\n",
       "body_customized            0\n",
       "subject_length             0\n",
       "body_length                0\n",
       "sequence_id                0\n",
       "persona                    0\n",
       "company_name               0\n",
       "company_tier               0\n",
       "email_opened               0\n",
       "delivered_at_day           0\n",
       "delivered_at_hour          0\n",
       "industy_category           0\n",
       "prospect_number_replies    0\n",
       "sequence_length            0\n",
       "dtype: int64"
      ]
     },
     "execution_count": 110,
     "metadata": {},
     "output_type": "execute_result"
    }
   ],
   "source": [
    "model_df.isnull().sum()"
   ]
  },
  {
   "cell_type": "markdown",
   "metadata": {},
   "source": [
    "### One-hot encoding categorical variables\n",
    "ML algorithms don't like strongs as input so I will encode the strong fields into binary one-hot encoded matrix. This will dimensionality to the data, but we currently only have 13 fields fields so it should be okay.\n",
    "\n",
    "Company tier has only 6 unique categories and persona has 12 unique categories. Industry and company name are"
   ]
  },
  {
   "cell_type": "code",
   "execution_count": 111,
   "metadata": {
    "collapsed": true,
    "scrolled": true
   },
   "outputs": [],
   "source": [
    "persona_encoded=pd.get_dummies(model_df['persona'],prefix='persona')\n",
    "company_tier_encoded=pd.get_dummies(model_df['company_tier'],prefix='comptier')\n",
    "industry_encoded=pd.get_dummies(model_df['industy_category'],prefix='industry')"
   ]
  },
  {
   "cell_type": "code",
   "execution_count": 112,
   "metadata": {},
   "outputs": [
    {
     "data": {
      "text/html": [
       "<div>\n",
       "<style>\n",
       "    .dataframe thead tr:only-child th {\n",
       "        text-align: right;\n",
       "    }\n",
       "\n",
       "    .dataframe thead th {\n",
       "        text-align: left;\n",
       "    }\n",
       "\n",
       "    .dataframe tbody tr th {\n",
       "        vertical-align: top;\n",
       "    }\n",
       "</style>\n",
       "<table border=\"1\" class=\"dataframe\">\n",
       "  <thead>\n",
       "    <tr style=\"text-align: right;\">\n",
       "      <th></th>\n",
       "      <th>comptier_Commercial</th>\n",
       "      <th>comptier_Enterprise</th>\n",
       "      <th>comptier_Mid-Market</th>\n",
       "      <th>comptier_Other</th>\n",
       "      <th>comptier_Small Business</th>\n",
       "      <th>comptier_Strategic</th>\n",
       "    </tr>\n",
       "  </thead>\n",
       "  <tbody>\n",
       "    <tr>\n",
       "      <th>0</th>\n",
       "      <td>0</td>\n",
       "      <td>0</td>\n",
       "      <td>1</td>\n",
       "      <td>0</td>\n",
       "      <td>0</td>\n",
       "      <td>0</td>\n",
       "    </tr>\n",
       "    <tr>\n",
       "      <th>1</th>\n",
       "      <td>0</td>\n",
       "      <td>0</td>\n",
       "      <td>1</td>\n",
       "      <td>0</td>\n",
       "      <td>0</td>\n",
       "      <td>0</td>\n",
       "    </tr>\n",
       "    <tr>\n",
       "      <th>2</th>\n",
       "      <td>0</td>\n",
       "      <td>0</td>\n",
       "      <td>1</td>\n",
       "      <td>0</td>\n",
       "      <td>0</td>\n",
       "      <td>0</td>\n",
       "    </tr>\n",
       "    <tr>\n",
       "      <th>3</th>\n",
       "      <td>0</td>\n",
       "      <td>0</td>\n",
       "      <td>1</td>\n",
       "      <td>0</td>\n",
       "      <td>0</td>\n",
       "      <td>0</td>\n",
       "    </tr>\n",
       "    <tr>\n",
       "      <th>4</th>\n",
       "      <td>0</td>\n",
       "      <td>0</td>\n",
       "      <td>1</td>\n",
       "      <td>0</td>\n",
       "      <td>0</td>\n",
       "      <td>0</td>\n",
       "    </tr>\n",
       "  </tbody>\n",
       "</table>\n",
       "</div>"
      ],
      "text/plain": [
       "   comptier_Commercial  comptier_Enterprise  comptier_Mid-Market  \\\n",
       "0                    0                    0                    1   \n",
       "1                    0                    0                    1   \n",
       "2                    0                    0                    1   \n",
       "3                    0                    0                    1   \n",
       "4                    0                    0                    1   \n",
       "\n",
       "   comptier_Other  comptier_Small Business  comptier_Strategic  \n",
       "0               0                        0                   0  \n",
       "1               0                        0                   0  \n",
       "2               0                        0                   0  \n",
       "3               0                        0                   0  \n",
       "4               0                        0                   0  "
      ]
     },
     "execution_count": 112,
     "metadata": {},
     "output_type": "execute_result"
    }
   ],
   "source": [
    "company_tier_encoded.head()"
   ]
  },
  {
   "cell_type": "code",
   "execution_count": 113,
   "metadata": {
    "collapsed": true
   },
   "outputs": [],
   "source": [
    "model_df.drop(['company_name','company_tier','persona','industy_category'],axis=1, inplace=True)"
   ]
  },
  {
   "cell_type": "code",
   "execution_count": 114,
   "metadata": {},
   "outputs": [
    {
     "name": "stdout",
     "output_type": "stream",
     "text": [
      "<class 'pandas.core.frame.DataFrame'>\n",
      "Int64Index: 1023256 entries, 0 to 1023255\n",
      "Data columns (total 11 columns):\n",
      "is_thread_reply            1023256 non-null int64\n",
      "subject_customized         1023256 non-null int64\n",
      "body_customized            1023256 non-null int64\n",
      "subject_length             1023256 non-null float64\n",
      "body_length                1023256 non-null float64\n",
      "sequence_id                1023256 non-null int64\n",
      "email_opened               1023256 non-null int32\n",
      "delivered_at_day           1023256 non-null int64\n",
      "delivered_at_hour          1023256 non-null int64\n",
      "prospect_number_replies    1023256 non-null int32\n",
      "sequence_length            1023256 non-null int64\n",
      "dtypes: float64(2), int32(2), int64(7)\n",
      "memory usage: 85.9 MB\n"
     ]
    }
   ],
   "source": [
    "model_df.info()"
   ]
  },
  {
   "cell_type": "markdown",
   "metadata": {},
   "source": [
    "### Forward Feature Selection using class weighted balancing in Decision Tree Classifier\n",
    "\n",
    "I will run the model on numeric features only and then add the one-hot encoded features: <br>\n",
    "1) Only Numeric features <br>\n",
    "2) Numeric + industry +persona + company-tier<br>\n",
    "\n",
    "\n",
    "_This will use the entire dataset using class balancing._"
   ]
  },
  {
   "cell_type": "markdown",
   "metadata": {},
   "source": [
    "#### Only Numeric Features"
   ]
  },
  {
   "cell_type": "code",
   "execution_count": 96,
   "metadata": {},
   "outputs": [
    {
     "name": "stdout",
     "output_type": "stream",
     "text": [
      "Lengths of sub-datasets 972093 972093 51163 51163\n",
      "[INFO] using DecisionTreeClassifier model\n",
      "[INFO] evaluating...\n",
      "Classification Report:               precision    recall  f1-score   support\n",
      "\n",
      "          0       0.80      0.72      0.76     37320\n",
      "          1       0.40      0.51      0.45     13843\n",
      "\n",
      "avg / total       0.69      0.66      0.67     51163\n",
      "\n",
      "Confusion Matrix: \n",
      " [[26796 10524]\n",
      " [ 6806  7037]]\n"
     ]
    }
   ],
   "source": [
    "#create training and testing data split in 95:05 ratio\n",
    "\n",
    "X= model_df.drop('email_opened',axis=1).values\n",
    "y= model_df['email_opened'].values\n",
    "\n",
    "(X_train, X_test, y_train, y_test) = train_test_split(X,y,test_size=0.05)\n",
    "print('Lengths of sub-datasets',len(X_train), len(y_train), len(X_test), len(y_test))\n",
    "\n",
    "# train the model\n",
    "print(\"[INFO] using DecisionTreeClassifier model\")\n",
    "model = DecisionTreeClassifier(max_depth=100,min_samples_leaf=5,class_weight='balanced')\n",
    "model.fit(X_train, y_train)\n",
    "\n",
    "# make predictions on our data and show a classification report\n",
    "print(\"[INFO] evaluating...\")\n",
    "predictions = model.predict(X_test)\n",
    "print(\"Classification Report: \",classification_report(y_test, predictions))\n",
    "\n",
    "print('Confusion Matrix: \\n',confusion_matrix(y_test, predictions))"
   ]
  },
  {
   "cell_type": "code",
   "execution_count": 97,
   "metadata": {},
   "outputs": [
    {
     "name": "stdout",
     "output_type": "stream",
     "text": [
      "[ 0.00138752  0.00095063  0.          0.05300734  0.13553449  0.14238271\n",
      "  0.09537989  0.14508275  0.26751643  0.15875825]\n"
     ]
    },
    {
     "data": {
      "image/png": "[encoded data removed]",
      "text/plain": [
       "<matplotlib.figure.Figure at 0x2b480741128>"
      ]
     },
     "metadata": {},
     "output_type": "display_data"
    }
   ],
   "source": [
    "print(model.feature_importances_)\n",
    "feat_importances = pd.Series(model.feature_importances_, index=model_df.drop('email_opened',axis=1).columns)\n",
    "feat_importances.nlargest(10).plot(kind='barh')\n",
    "plt.show()"
   ]
  },
  {
   "cell_type": "markdown",
   "metadata": {},
   "source": [
    "In all cases, the industry, company tier or persona fields did not improve the metric by much (confusion matrix, f1 score)\n"
   ]
  },
  {
   "cell_type": "markdown",
   "metadata": {},
   "source": [
    "#### All Features"
   ]
  },
  {
   "cell_type": "code",
   "execution_count": 140,
   "metadata": {
    "scrolled": true
   },
   "outputs": [
    {
     "name": "stdout",
     "output_type": "stream",
     "text": [
      "<class 'pandas.core.frame.DataFrame'>\n",
      "Int64Index: 1023256 entries, 0 to 1023255\n",
      "Data columns (total 32 columns):\n",
      "is_thread_reply                 1023256 non-null int64\n",
      "subject_customized              1023256 non-null int64\n",
      "body_customized                 1023256 non-null int64\n",
      "subject_length                  1023256 non-null float64\n",
      "body_length                     1023256 non-null float64\n",
      "sequence_id                     1023256 non-null int64\n",
      "email_opened                    1023256 non-null int32\n",
      "delivered_at_day                1023256 non-null int64\n",
      "delivered_at_hour               1023256 non-null int64\n",
      "prospect_number_replies         1023256 non-null int32\n",
      "sequence_length                 1023256 non-null int64\n",
      "persona_Ancillary               1023256 non-null uint8\n",
      "persona_CSM/AM                  1023256 non-null uint8\n",
      "persona_Executive Leadership    1023256 non-null uint8\n",
      "persona_Marketing               1023256 non-null uint8\n",
      "persona_Not Assigned            1023256 non-null uint8\n",
      "persona_Recruiting              1023256 non-null uint8\n",
      "persona_SDR                     1023256 non-null uint8\n",
      "persona_Sales Enablement        1023256 non-null uint8\n",
      "persona_Sales Leadership        1023256 non-null uint8\n",
      "persona_Sales Management        1023256 non-null uint8\n",
      "persona_Sales Operations        1023256 non-null uint8\n",
      "persona_Sales Rep               1023256 non-null uint8\n",
      "comptier_Commercial             1023256 non-null uint8\n",
      "comptier_Enterprise             1023256 non-null uint8\n",
      "comptier_Mid-Market             1023256 non-null uint8\n",
      "comptier_Other                  1023256 non-null uint8\n",
      "comptier_Small Business         1023256 non-null uint8\n",
      "comptier_Strategic              1023256 non-null uint8\n",
      "industry_marketing              1023256 non-null uint8\n",
      "industry_other                  1023256 non-null uint8\n",
      "industry_tech                   1023256 non-null uint8\n",
      "dtypes: float64(2), int32(2), int64(7), uint8(21)\n",
      "memory usage: 106.4 MB\n"
     ]
    }
   ],
   "source": [
    "model_df_2= pd.concat([model_df, persona_encoded, company_tier_encoded,industry_encoded ], axis = 1)\n",
    "model_df_2.info()"
   ]
  },
  {
   "cell_type": "code",
   "execution_count": 388,
   "metadata": {},
   "outputs": [
    {
     "name": "stdout",
     "output_type": "stream",
     "text": [
      "Lengths of sub-datasets 972093 972093 51163 51163\n",
      "[INFO] using RandomForestClassifier(bootstrap=True, class_weight='balanced',\n",
      "            criterion='gini', max_depth=None, max_features='auto',\n",
      "            max_leaf_nodes=None, min_impurity_decrease=0.0,\n",
      "            min_impurity_split=None, min_samples_leaf=1,\n",
      "            min_samples_split=2, min_weight_fraction_leaf=0.0,\n",
      "            n_estimators=100, n_jobs=1, oob_score=False, random_state=None,\n",
      "            verbose=0, warm_start=False) model\n",
      "[INFO] evaluating...\n",
      "Classification Report:               precision    recall  f1-score   support\n",
      "\n",
      "          0       0.80      0.66      0.73     37152\n",
      "          1       0.39      0.56      0.46     14011\n",
      "\n",
      "avg / total       0.69      0.64      0.65     51163\n",
      "\n",
      "Confusion Matrix: \n",
      " [[24689 12463]\n",
      " [ 6155  7856]]\n"
     ]
    }
   ],
   "source": [
    "#create training and testing data split in 95:05 ratio\n",
    "\n",
    "X= model_df_2.drop('email_opened',axis=1).values\n",
    "y= model_df_2['email_opened'].values\n",
    "\n",
    "(X_train, X_test, y_train, y_test) = train_test_split(X,y,test_size=0.05)\n",
    "print('Lengths of sub-datasets',len(X_train), len(y_train), len(X_test), len(y_test))\n",
    "\n",
    "# train the model\n",
    "print(\"[INFO] using DecisionTreeClassifier model\")\n",
    "model = DecisionTreeClassifier(max_depth=100,min_samples_leaf=5,class_weight='balanced')\n",
    "model.fit(X_train, y_train)\n",
    "\n",
    "# make predictions on our data and show a classification report\n",
    "print(\"[INFO] evaluating...\")\n",
    "predictions = model.predict(X_test)\n",
    "print(\"Classification Report: \",classification_report(y_test, predictions))\n",
    "\n",
    "print('Confusion Matrix: \\n',confusion_matrix(y_test, predictions))"
   ]
  },
  {
   "cell_type": "code",
   "execution_count": 389,
   "metadata": {
    "scrolled": false
   },
   "outputs": [
    {
     "data": {
      "image/png": "[encoded data removed]",
      "text/plain": [
       "<matplotlib.figure.Figure at 0x2b4b3dcf1d0>"
      ]
     },
     "metadata": {},
     "output_type": "display_data"
    }
   ],
   "source": [
    "plt.figure(figsize=(12,15))\n",
    "feat_importances = pd.Series(model.feature_importances_, index=model_df_2.drop('email_opened',axis=1).columns)\n",
    "feat_importances.nlargest(50).plot(kind='barh')\n",
    "plt.show()"
   ]
  },
  {
   "cell_type": "markdown",
   "metadata": {},
   "source": [
    "Now, i will select only the top 23 features (the same as basline model with numeric features) so expedite tuning. "
   ]
  },
  {
   "cell_type": "code",
   "execution_count": 390,
   "metadata": {
    "collapsed": true
   },
   "outputs": [],
   "source": [
    "selected_features=feat_importances.nlargest(23).keys()"
   ]
  },
  {
   "cell_type": "code",
   "execution_count": 391,
   "metadata": {},
   "outputs": [
    {
     "name": "stderr",
     "output_type": "stream",
     "text": [
      "C:\\Users\\shanumasagar3\\AppData\\Local\\Continuum\\Anaconda2\\envs\\py3env\\lib\\site-packages\\pandas\\core\\indexing.py:337: SettingWithCopyWarning: \n",
      "A value is trying to be set on a copy of a slice from a DataFrame.\n",
      "Try using .loc[row_indexer,col_indexer] = value instead\n",
      "\n",
      "See the caveats in the documentation: http://pandas.pydata.org/pandas-docs/stable/indexing.html#indexing-view-versus-copy\n",
      "  self.obj[key] = _infer_fill_value(value)\n",
      "C:\\Users\\shanumasagar3\\AppData\\Local\\Continuum\\Anaconda2\\envs\\py3env\\lib\\site-packages\\pandas\\core\\indexing.py:517: SettingWithCopyWarning: \n",
      "A value is trying to be set on a copy of a slice from a DataFrame.\n",
      "Try using .loc[row_indexer,col_indexer] = value instead\n",
      "\n",
      "See the caveats in the documentation: http://pandas.pydata.org/pandas-docs/stable/indexing.html#indexing-view-versus-copy\n",
      "  self.obj[item] = s\n"
     ]
    }
   ],
   "source": [
    "final_model_df=model_df_2[selected_features]\n",
    "final_model_df.loc[:,'email_opened']=model_df_2['email_opened']"
   ]
  },
  {
   "cell_type": "code",
   "execution_count": 392,
   "metadata": {},
   "outputs": [
    {
     "name": "stdout",
     "output_type": "stream",
     "text": [
      "<class 'pandas.core.frame.DataFrame'>\n",
      "Int64Index: 1023256 entries, 0 to 1023255\n",
      "Data columns (total 24 columns):\n",
      "prospect_number_replies         1023256 non-null int32\n",
      "body_length                     1023256 non-null float64\n",
      "delivered_at_hour               1023256 non-null int64\n",
      "sequence_id                     1023256 non-null int64\n",
      "sequence_length                 1023256 non-null int64\n",
      "delivered_at_day                1023256 non-null int64\n",
      "subject_length                  1023256 non-null float64\n",
      "persona_Sales Management        1023256 non-null uint8\n",
      "persona_Sales Leadership        1023256 non-null uint8\n",
      "industry_other                  1023256 non-null uint8\n",
      "persona_Marketing               1023256 non-null uint8\n",
      "comptier_Mid-Market             1023256 non-null uint8\n",
      "persona_Executive Leadership    1023256 non-null uint8\n",
      "persona_Sales Rep               1023256 non-null uint8\n",
      "comptier_Enterprise             1023256 non-null uint8\n",
      "persona_Sales Operations        1023256 non-null uint8\n",
      "industry_tech                   1023256 non-null uint8\n",
      "comptier_Strategic              1023256 non-null uint8\n",
      "comptier_Commercial             1023256 non-null uint8\n",
      "industry_marketing              1023256 non-null uint8\n",
      "comptier_Small Business         1023256 non-null uint8\n",
      "persona_Sales Enablement        1023256 non-null uint8\n",
      "persona_CSM/AM                  1023256 non-null uint8\n",
      "email_opened                    1023256 non-null int32\n",
      "dtypes: float64(2), int32(2), int64(4), uint8(16)\n",
      "memory usage: 78.1 MB\n"
     ]
    }
   ],
   "source": [
    "final_model_df.info()"
   ]
  },
  {
   "cell_type": "markdown",
   "metadata": {},
   "source": [
    "#### Create training and testing data split in 80:20 ratio"
   ]
  },
  {
   "cell_type": "code",
   "execution_count": 393,
   "metadata": {},
   "outputs": [
    {
     "name": "stdout",
     "output_type": "stream",
     "text": [
      "Lengths of sub-datasets 818604 818604 204652 204652\n"
     ]
    }
   ],
   "source": [
    "#create training and testing data split in 80:20 ratio\n",
    "\n",
    "X= final_model_df.drop('email_opened',axis=1).values\n",
    "y= final_model_df['email_opened'].values\n",
    "\n",
    "(X_train, X_test, y_train, y_test) = train_test_split(X,y,test_size=0.2)\n",
    "print('Lengths of sub-datasets',len(X_train), len(y_train), len(X_test), len(y_test))"
   ]
  },
  {
   "cell_type": "markdown",
   "metadata": {},
   "source": [
    "#### DecisionTreeClassifier"
   ]
  },
  {
   "cell_type": "code",
   "execution_count": 394,
   "metadata": {},
   "outputs": [
    {
     "name": "stdout",
     "output_type": "stream",
     "text": [
      "[INFO] using DecisionTreeClassifier model\n",
      "[INFO] evaluating...\n",
      "Classification Report:               precision    recall  f1-score   support\n",
      "\n",
      "          0       0.80      0.66      0.72    149074\n",
      "          1       0.38      0.55      0.45     55578\n",
      "\n",
      "avg / total       0.68      0.63      0.65    204652\n",
      "\n",
      "Confusion Matrix: \n",
      " [[98351 50723]\n",
      " [24825 30753]]\n"
     ]
    }
   ],
   "source": [
    "# train the model\n",
    "print(\"[INFO] using DecisionTreeClassifier model\")\n",
    "model = DecisionTreeClassifier(max_depth=100,min_samples_leaf=5,class_weight='balanced')\n",
    "model.fit(X_train, y_train)\n",
    "\n",
    "# make predictions on our data and show a classification report\n",
    "print(\"[INFO] evaluating...\")\n",
    "predictions = model.predict(X_test)\n",
    "print(\"Classification Report: \",classification_report(y_test, predictions))\n",
    "\n",
    "print('Confusion Matrix: \\n',confusion_matrix(y_test, predictions))"
   ]
  },
  {
   "cell_type": "markdown",
   "metadata": {},
   "source": [
    "#### Random Forest"
   ]
  },
  {
   "cell_type": "code",
   "execution_count": 231,
   "metadata": {},
   "outputs": [
    {
     "name": "stdout",
     "output_type": "stream",
     "text": [
      "Lengths of sub-datasets 818604 818604 204652 204652\n",
      "[INFO] using random forest model\n",
      "[INFO] evaluating...\n",
      "Classification Report:               precision    recall  f1-score   support\n",
      "\n",
      "          0       0.79      0.78      0.78    149225\n",
      "          1       0.42      0.43      0.43     55427\n",
      "\n",
      "avg / total       0.69      0.69      0.69    204652\n",
      "\n",
      "Confusion Matrix: \n",
      " [[116585  32640]\n",
      " [ 31622  23805]]\n",
      "0.685988898227\n"
     ]
    }
   ],
   "source": [
    "# train the model\n",
    "print(\"[INFO] using random forest model\")\n",
    "model = RandomForestClassifier(n_estimators=100,class_weight='balanced_subsample',n_jobs=4)\n",
    "model.fit(X_train, y_train)\n",
    "\n",
    "# make predictions on our data and show a classification report\n",
    "print(\"[INFO] evaluating...\")\n",
    "predictions = model.predict(X_test)\n",
    "print(\"Classification Report: \",classification_report(y_test, predictions))\n",
    "\n",
    "print('Confusion Matrix: \\n',confusion_matrix(y_test, predictions))\n",
    "\n",
    "print(model.score(X=X_test,y=y_test))"
   ]
  },
  {
   "cell_type": "code",
   "execution_count": 217,
   "metadata": {},
   "outputs": [
    {
     "name": "stdout",
     "output_type": "stream",
     "text": [
      "[ 0.1325501   0.17211129  0.20840842  0.18140282  0.13969317  0.0983786\n",
      "  0.0674556 ]\n"
     ]
    },
    {
     "data": {
      "image/png": "[encoded data removed]",
      "text/plain": [
       "<matplotlib.figure.Figure at 0x2b48edb1160>"
      ]
     },
     "metadata": {},
     "output_type": "display_data"
    }
   ],
   "source": [
    "print(model.feature_importances_)\n",
    "feat_importances = pd.Series(model.feature_importances_, index=final_model_df.drop('email_opened',axis=1).columns)\n",
    "feat_importances.nlargest(10).plot(kind='barh')\n",
    "plt.show()"
   ]
  },
  {
   "cell_type": "markdown",
   "metadata": {},
   "source": [
    "#### Compute ROC curve and ROC area for each class"
   ]
  },
  {
   "cell_type": "code",
   "execution_count": 275,
   "metadata": {},
   "outputs": [
    {
     "data": {
      "image/png": "[encoded data removed]",
      "text/plain": [
       "<matplotlib.figure.Figure at 0x2b487f04da0>"
      ]
     },
     "metadata": {},
     "output_type": "display_data"
    }
   ],
   "source": [
    "\n",
    "fpr, tpr,_= roc_curve(y_test, predictions, sample_weight=None)\n",
    "roc_auc = auc(fpr, tpr)\n",
    "\n",
    "plt.figure()\n",
    "plt.plot(fpr, tpr, color='darkorange',\n",
    "         lw=2, label='ROC curve (area = %0.2f)' % roc_auc)\n",
    "plt.plot([0, 1], [0, 1], color='navy', lw=2, linestyle='--')\n",
    "plt.xlim([0.0, 1.0])\n",
    "plt.ylim([0.0, 1.05])\n",
    "plt.xlabel('False Positive Rate')\n",
    "plt.ylabel('True Positive Rate')\n",
    "plt.title('ROC Curve')\n",
    "plt.legend(loc=\"lower right\")\n",
    "plt.show()\n"
   ]
  },
  {
   "cell_type": "markdown",
   "metadata": {},
   "source": [
    "#### Precision Recall Curve\n",
    "\n",
    "Precision-Recall is a useful measure of success of prediction when the classes are very imbalanced. In information retrieval, precision is a measure of result relevancy, while recall is a measure of how many truly relevant results are returned.\n",
    "[https://scikit-learn.org/stable/auto_examples/model_selection/plot_precision_recall.html#sphx-glr-auto-examples-model-selection-plot-precision-recall-py]"
   ]
  },
  {
   "cell_type": "code",
   "execution_count": 403,
   "metadata": {},
   "outputs": [
    {
     "name": "stdout",
     "output_type": "stream",
     "text": [
      "f1=0.581 auc=0.694 ap=0.562\n"
     ]
    },
    {
     "data": {
      "image/png": "[encoded data removed]",
      "text/plain": [
       "<matplotlib.figure.Figure at 0x2b482e78630>"
      ]
     },
     "metadata": {},
     "output_type": "display_data"
    }
   ],
   "source": [
    "precision, recall, thresholds = precision_recall_curve(y_test, predictions)\n",
    "# calculate F1 score\n",
    "f1 = f1_score(y_test, predictions)\n",
    "# calculate precision-recall AUC\n",
    "auc = auc(recall, precision)\n",
    "# calculate average precision score\n",
    "ap = average_precision_score(y_test, predictions)\n",
    "print('f1=%.3f auc=%.3f ap=%.3f' % (f1, auc, ap))\n",
    "# plot no skill\n",
    "plt.plot([0, 1], [0.5, 0.5], linestyle='--')\n",
    "# plot the precision-recall curve for the model\n",
    "plt.plot(recall, precision, marker='.')\n",
    "plt.xlabel('Recall')\n",
    "plt.ylabel('Precision')\n",
    "plt.show()"
   ]
  },
  {
   "cell_type": "markdown",
   "metadata": {
    "collapsed": true
   },
   "source": [
    "#### XGBoost"
   ]
  },
  {
   "cell_type": "code",
   "execution_count": 395,
   "metadata": {
    "scrolled": false
   },
   "outputs": [
    {
     "name": "stdout",
     "output_type": "stream",
     "text": [
      "[0]\teval-error:0.310302\n",
      "[1]\teval-error:0.313804\n",
      "[2]\teval-error:0.315643\n",
      "[3]\teval-error:0.315997\n",
      "[4]\teval-error:0.318396\n",
      "[5]\teval-error:0.318555\n",
      "[6]\teval-error:0.319407\n",
      "[7]\teval-error:0.319292\n",
      "[8]\teval-error:0.319499\n",
      "[9]\teval-error:0.319621\n",
      "[INFO] evaluating...\n",
      "[INFO] evaluating...Done\n"
     ]
    }
   ],
   "source": [
    "\n",
    "# specify parameters via map\n",
    "msk = np.random.rand(len(X_train)) < 0.8\n",
    "dtrain = xgb.DMatrix(X_train[msk],label=y_train[msk])\n",
    "dtrain_watch = xgb.DMatrix(X_train[~msk], label=y_train[~msk])\n",
    "evallist  = [(dtrain_watch, 'eval')]\n",
    "\n",
    "dtest = xgb.DMatrix(X_test,label=y_test)\n",
    "\n",
    "# specify parameters via map\n",
    "param = {'max_depth':20, 'eta':1, 'silent':1, 'objective':'binary:logistic','scale_pos_weight':2.3 }\n",
    "num_round = 10\n",
    "\n",
    "bst = xgb.train(param, dtrain, num_round,evallist)\n",
    "\n",
    "# make prediction\n",
    "print(\"[INFO] evaluating...\")\n",
    "preds = bst.predict(dtest)\n",
    "predictions=[round(value) for value in preds]\n",
    "\n",
    "print(\"[INFO] evaluating...Done\")"
   ]
  },
  {
   "cell_type": "code",
   "execution_count": 396,
   "metadata": {},
   "outputs": [
    {
     "name": "stdout",
     "output_type": "stream",
     "text": [
      "Classification Report:               precision    recall  f1-score   support\n",
      "\n",
      "          0       0.79      0.77      0.78    149074\n",
      "          1       0.42      0.46      0.44     55578\n",
      "\n",
      "avg / total       0.69      0.68      0.69    204652\n",
      "\n",
      "Confusion Matrix: \n",
      " [[114079  34995]\n",
      " [ 30072  25506]]\n"
     ]
    }
   ],
   "source": [
    "# make predictions on our data and show a classification report\n",
    "print(\"Classification Report: \",classification_report(y_test, predictions))\n",
    "\n",
    "print('Confusion Matrix: \\n',confusion_matrix(y_test, predictions))"
   ]
  },
  {
   "cell_type": "markdown",
   "metadata": {
    "collapsed": true
   },
   "source": [
    "##### All these models seem to be showing similar performance. \n",
    "\n",
    "As a general rule, proper feature engineering will have a much larger impact on model performance than even the most extensive hyperparameter tuning. It’s the law of diminishing returns applied to machine learning: feature engineering gets you most of the way there, and hyperparameter tuning generally only provides a small benefit.\n",
    "\n",
    "In all the above cases, the precision and recall for the positive class (minority) class has been low owing to the false positives and false negatives. Maybe the class balancing of the models are not powerful, I am not sure. \n",
    "\n",
    "\n",
    "|  |0|1|\n",
    "   |-|-|\n",
    "|0|TN|FP|\n",
    "|1|FN|TP|\n",
    " \n",
    " \t\n",
    "Precision = TP/(TP+FP)\n",
    "Recall    = TP / (TP+FN)\n",
    "\n",
    "So I will try something different and balance the classes by undersampling the majority class in the next notebook.\n",
    "\n"
   ]
  },
  {
   "cell_type": "markdown",
   "metadata": {},
   "source": [
    "=================================================================================================================="
   ]
  }
 ],
 "metadata": {
  "kernelspec": {
   "display_name": "Python [conda env:Anaconda3]",
   "language": "python",
   "name": "conda-env-Anaconda3-py"
  },
  "language_info": {
   "codemirror_mode": {
    "name": "ipython",
    "version": 3
   },
   "file_extension": ".py",
   "mimetype": "text/x-python",
   "name": "python",
   "nbconvert_exporter": "python",
   "pygments_lexer": "ipython3",
   "version": "3.6.2"
  }
 },
 "nbformat": 4,
 "nbformat_minor": 2
}
